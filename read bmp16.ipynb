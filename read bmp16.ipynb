{
 "cells": [
  {
   "cell_type": "code",
   "execution_count": 30,
   "metadata": {},
   "outputs": [],
   "source": [
    "from PIL import Image\n",
    "import numpy as np"
   ]
  },
  {
   "cell_type": "code",
   "execution_count": 31,
   "metadata": {},
   "outputs": [],
   "source": [
    "import matplotlib.pyplot as plt\n",
    "%matplotlib inline"
   ]
  },
  {
   "cell_type": "code",
   "execution_count": 32,
   "metadata": {},
   "outputs": [],
   "source": [
    "def show_image(image):\n",
    "#     img=Image.open(image_path)\n",
    "    plt.figure(\"name\")\n",
    "    plt.figure(num=1, figsize=(8,5),)\n",
    "    plt.title('name title')\n",
    "    plt.axis('off') # 不显示坐标轴\n",
    "    plt.imshow(image)\n",
    "    plt.show()\n",
    "    \n",
    "def show_image_file(file_path):\n",
    "    image = Image.open(file_path)\n",
    "    show_image(image)"
   ]
  },
  {
   "cell_type": "code",
   "execution_count": 33,
   "metadata": {},
   "outputs": [],
   "source": [
    "from struct import unpack, pack"
   ]
  },
  {
   "cell_type": "code",
   "execution_count": 34,
   "metadata": {},
   "outputs": [],
   "source": [
    "class bmpParser:\n",
    "    def __init__(self):\n",
    "        self.palette = []\n",
    "        self.raw_data = None\n",
    "        self.biWidth = 0\n",
    "        self.biHeight = 0\n",
    "        self.biBitCount = 0\n",
    "        self.biClrUsed = 0\n",
    "        self.biSize = 40\n",
    "        self.biXPelsPerMeter = 0\n",
    "        self.biYPelsPerMeter = 0\n",
    "        self.biClrImportant = 0\n",
    "        self.palette_bytes = None\n",
    "    \n",
    "    def new(self,mode,size,color):\n",
    "        \n",
    "        if mode == 'P16':\n",
    "            self.pa_size = 16*4\n",
    "            self.biBitCount = 4\n",
    "            self.biClrUsed = 16\n",
    "            self.biClrImportant = 16\n",
    "            for i in range(16):\n",
    "                self.palette.append((0,0,0))\n",
    "        elif mode == 'P256':\n",
    "            self.pa_size = 256*4\n",
    "            self.biBitCount = 8\n",
    "            self.biClrUsed = 256\n",
    "            self.biClrImportant = 256\n",
    "            for i in range(256):\n",
    "                self.palette.append((0,0,0))\n",
    "            \n",
    "        self.bfOffBits = 54 + self.pa_size\n",
    "        \n",
    "        self.biWidth, self.biHeight = size\n",
    "        self.biSizeImage = int(self.biWidth * self.biHeight * self.biBitCount / 8)\n",
    "                \n",
    "        self.bfSize = self.biSizeImage + 54 + self.pa_size\n",
    "        \n",
    "        if color == 'red':\n",
    "            palette = (255,0,0)\n",
    "        elif color == 'blue':\n",
    "            palette = (0,0,255)\n",
    "        elif color == 'green':\n",
    "            palette = (0,255,0)\n",
    "            \n",
    "        self.palette[0] = palette\n",
    "            \n",
    "        self.raw_data = bytearray(self.biSizeImage) \n",
    "        self.palette_bytes = bytearray(self.biClrUsed * 3)\n",
    "            \n",
    "#         return self\n",
    "    \n",
    "    def open(self,file_path):\n",
    "        file = open(file_path,'rb')\n",
    "        id = unpack('cc',file.read(2))\n",
    "        print(id)\n",
    "        self.bfSize = unpack(\"<i\", file.read(4))[0]       # 位图文件大小\n",
    "        bfReserved1 = unpack(\"<h\", file.read(2))[0]  # 保留字段 必须设为 0 \n",
    "        bfReserved2 = unpack(\"<h\", file.read(2))[0]  # 保留字段 必须设为 0 \n",
    "        self.bfOffBits = unpack(\"<i\", file.read(4))[0]    # 偏移量 从文件头到位图数据需偏移多少字节（位图信息头、调色板长度等不是固定的，这时就需要这个参数了）\n",
    "        # 读取 bmp 文件的位图信息头 40 字节\n",
    "        self.biSize = unpack(\"<i\", file.read(4))[0]       # 所需要的字节数\n",
    "        self.biWidth = unpack(\"<i\", file.read(4))[0]      # 图像的宽度 单位 像素\n",
    "        self.biHeight = unpack(\"<i\", file.read(4))[0]     # 图像的高度 单位 像素\n",
    "        biPlanes = unpack(\"<h\", file.read(2))[0]     # 说明颜色平面数 总设为 1\n",
    "        self.biBitCount = unpack(\"<h\", file.read(2))[0]   # 说明比特数\n",
    "\n",
    "        biCompression = unpack(\"<i\", file.read(4))[0]  # 图像压缩的数据类型\n",
    "        self.biSizeImage = unpack(\"<i\", file.read(4))[0]    # 图像大小\n",
    "        self.biXPelsPerMeter = unpack(\"<i\", file.read(4))[0]# 水平分辨率\n",
    "        self.biYPelsPerMeter = unpack(\"<i\", file.read(4))[0]# 垂直分辨率\n",
    "        self.biClrUsed = unpack(\"<i\", file.read(4))[0]      # 实际使用的彩色表中的颜色索引数\n",
    "        self.biClrImportant = unpack(\"<i\", file.read(4))[0] # 对图像显示有重要影响的颜色索引的数目\n",
    "#         print('bit cnt %d'%biBitCount)\n",
    "#         print('color = %d'%biClrUsed)\n",
    "\n",
    "        file.seek(54)\n",
    "#         palette = []\n",
    "        for i in range(self.biClrUsed):\n",
    "                r,g,b = unpack('BBB',file.read(3))\n",
    "                self.palette.append((r,g,b))\n",
    "\n",
    "#         print(palette)        \n",
    "\n",
    "        file.seek(self.bfOffBits)\n",
    "        self.raw_data = file.read(self.biSizeImage)\n",
    "#         print(len(raw_data))\n",
    "        file.close()\n",
    "        return self\n",
    "\n",
    "    \n",
    "    def save(self,filePath):\n",
    "        out_file = open(filePath,'wb')\n",
    "        out_file.write(pack('cc',b'B',b'M'))\n",
    "        out_file.write(pack('i',self.bfSize))\n",
    "        out_file.write(pack('i',0))\n",
    "        out_file.write(pack('i',self.bfOffBits))\n",
    "        out_file.write(pack('iii',self.biSize,self.biWidth,self.biHeight))\n",
    "        out_file.write(pack('hh',1,self.biBitCount))\n",
    "        out_file.write(pack('i',0))\n",
    "        out_file.write(pack('iii',self.biSizeImage,self.biXPelsPerMeter,self.biYPelsPerMeter))\n",
    "        out_file.write(pack('ii',self.biClrUsed,self.biClrImportant))\n",
    "\n",
    "#         for color in self.palette:\n",
    "#             print(bytes(color))\n",
    "#             out_file.write(bytes(color))\n",
    "        out_file.write(self.palette_bytes)\n",
    "\n",
    "        out_file.seek(self.bfOffBits)  \n",
    "        out_file.write(self.raw_data)\n",
    "        out_file.close()\n",
    "\n",
    "    def getPalette(self):\n",
    "        return self.palette\n",
    "    \n",
    "    def getRawData(self):\n",
    "        return self.raw_data\n",
    "    \n",
    "    def setPalette(self,pa):\n",
    "        self.palette_bytes = pa\n",
    "#         print(self.palette_bytes)\n",
    "    \n",
    "    def setRawData(self,rawdata):\n",
    "        self.raw_data = rawdata\n",
    "    \n",
    "    def getWidth(self):\n",
    "        return self.biWidth\n",
    "    \n",
    "    def getHeight(self):\n",
    "        return self.biHeight\n"
   ]
  },
  {
   "cell_type": "code",
   "execution_count": 35,
   "metadata": {},
   "outputs": [],
   "source": [
    "# bmp.save('o.bmp')\n",
    "my_bmp = bmpParser()\n",
    "my_bmp.new('P16',(96,96),'green')\n"
   ]
  },
  {
   "cell_type": "code",
   "execution_count": 36,
   "metadata": {},
   "outputs": [],
   "source": [
    "import pickle"
   ]
  },
  {
   "cell_type": "code",
   "execution_count": 37,
   "metadata": {},
   "outputs": [
    {
     "name": "stdout",
     "output_type": "stream",
     "text": [
      "b'\\xff\\x00\\xff\\x00GGG\\x00QQQ\\x00\\xa7z\\x86\\x00\\xb8\\\\\\x00\\x00\\xff\\x00\\x00\\x00\\x00\\xff\\xff\\x00\\x00\\x00\\xff\\x00\\xff\\xff\\xff\\x00\\x00\\x88\\x00\\x00333\\x00[[[\\x00\\xb8\\\\\\x00\\x00\\x1e\\x1e\\x1e\\x00\\x15\\x15\\x15\\x00\\x00\\x00\\x00\\x00'\n"
     ]
    }
   ],
   "source": [
    "with open('palette.pickle','rb') as f:\n",
    "    pa_read = pickle.load(f)\n",
    "    print(pa_read)\n",
    "    my_bmp.setPalette(pa_read)"
   ]
  },
  {
   "cell_type": "code",
   "execution_count": 38,
   "metadata": {},
   "outputs": [],
   "source": [
    "with open('bmp_raw.pickle','rb') as f:\n",
    "    raw_data = pickle.load(f)\n",
    "    raw_bytearray = bytearray()\n",
    "    for line in raw_data:\n",
    "        raw_bytearray.extend(line)\n",
    "    my_bmp.setRawData(raw_bytearray)    "
   ]
  },
  {
   "cell_type": "code",
   "execution_count": 41,
   "metadata": {},
   "outputs": [
    {
     "data": {
      "image/png": "[encoded data removed]",
      "text/plain": [
       "<Figure size 432x288 with 1 Axes>"
      ]
     },
     "metadata": {
      "needs_background": "light"
     },
     "output_type": "display_data"
    }
   ],
   "source": [
    "show_image_file('new_bmp.bmp')"
   ]
  },
  {
   "cell_type": "code",
   "execution_count": null,
   "metadata": {},
   "outputs": [],
   "source": []
  }
 ],
 "metadata": {
  "kernelspec": {
   "display_name": "Python 3",
   "language": "python",
   "name": "python3"
  },
  "language_info": {
   "codemirror_mode": {
    "name": "ipython",
    "version": 3
   },
   "file_extension": ".py",
   "mimetype": "text/x-python",
   "name": "python",
   "nbconvert_exporter": "python",
   "pygments_lexer": "ipython3",
   "version": "3.7.3"
  }
 },
 "nbformat": 4,
 "nbformat_minor": 2
}
