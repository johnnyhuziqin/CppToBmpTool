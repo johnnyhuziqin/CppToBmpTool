{
 "cells": [
  {
   "cell_type": "code",
   "execution_count": 1,
   "metadata": {},
   "outputs": [],
   "source": [
    "bmp_file = open('./bmp.cpp')"
   ]
  },
  {
   "cell_type": "code",
   "execution_count": 2,
   "metadata": {},
   "outputs": [
    {
     "name": "stdout",
     "output_type": "stream",
     "text": [
      "const unsigned char other_card_icon_Data[] =\n",
      "\n",
      "['const', 'unsigned', 'char', 'other_card_icon_Data[]', '=\\n']\n"
     ]
    }
   ],
   "source": [
    "bmp_file.seek(0)\n",
    "bmp_line = bmp_file.readline()\n",
    "print(bmp_line)\n",
    "name = bmp_line.split(' ')\n",
    "print(name)"
   ]
  },
  {
   "cell_type": "code",
   "execution_count": 3,
   "metadata": {},
   "outputs": [
    {
     "name": "stdout",
     "output_type": "stream",
     "text": [
      "other_card_icon_Data[]\n"
     ]
    }
   ],
   "source": [
    "icon_name = name[3]\n",
    "print(icon_name)"
   ]
  },
  {
   "cell_type": "code",
   "execution_count": 4,
   "metadata": {},
   "outputs": [
    {
     "data": {
      "text/plain": [
       "['const unsigned char other_card_icon_Data[] =\\n',\n",
       " '{\\n',\n",
       " '    96,96,\\n',\n",
       " '    0x00,0x00,0x00,0x00,0x00,0x00,0x00,0x00,0x00,0x00,0x00,0x00,0x00,0x00,0x00,0x00,0x00,0x00,0x00,0x00,0x00,0x00,0x00,0x00,0x00,0x00,0x00,0x00,0x00,0x00,0x00,0x00,0x00,0x00,0x00,0x00,0x00,0x00,0x00,0x00,0x00,0x00,0x00,0x00,0x00,0x00,0x00,0x00,\\n',\n",
       " '    0x00,0x00,0x00,0x00,0x00,0x00,0x00,0x00,0x00,0x00,0x00,0x00,0x00,0x00,0x00,0x00,0x00,0x00,0x00,0x00,0x00,0x00,0x00,0x00,0x00,0x00,0x00,0x00,0x00,0x00,0x00,0x00,0x00,0x00,0x00,0x00,0x00,0x00,0x00,0x00,0x00,0x00,0x00,0x00,0x00,0x00,0x00,0x00,\\n']"
      ]
     },
     "execution_count": 4,
     "metadata": {},
     "output_type": "execute_result"
    }
   ],
   "source": [
    "bmp_file.seek(0)\n",
    "all_lines = bmp_file.readlines()\n",
    "\n",
    "all_lines[0:5]\n"
   ]
  },
  {
   "cell_type": "code",
   "execution_count": 5,
   "metadata": {},
   "outputs": [],
   "source": [
    "oneline = all_lines[3]\n",
    "# print(type(oneline))\n",
    "s1 = oneline.split(',')"
   ]
  },
  {
   "cell_type": "code",
   "execution_count": 6,
   "metadata": {},
   "outputs": [],
   "source": [
    "def convert_to_array(oneline):\n",
    "    s1 = oneline.split(',')\n",
    "    res = []\n",
    "    for d in s1:\n",
    "        if d != '\\n':\n",
    "            res.append(int(d,base=16))\n",
    "    return res    "
   ]
  },
  {
   "cell_type": "code",
   "execution_count": 7,
   "metadata": {},
   "outputs": [],
   "source": [
    "bmp_array = []\n",
    "for l in all_lines[3:-1]:\n",
    "    bmp_array.append(convert_to_array(l))"
   ]
  },
  {
   "cell_type": "code",
   "execution_count": 8,
   "metadata": {},
   "outputs": [],
   "source": [
    "import pickle"
   ]
  },
  {
   "cell_type": "code",
   "execution_count": 9,
   "metadata": {},
   "outputs": [],
   "source": [
    "with open('bmp_raw_data.pickle','wb') as f:\n",
    "    pickle.dump(bmp_array,f)"
   ]
  },
  {
   "cell_type": "code",
   "execution_count": 10,
   "metadata": {},
   "outputs": [
    {
     "data": {
      "text/plain": [
       "96"
      ]
     },
     "execution_count": 10,
     "metadata": {},
     "output_type": "execute_result"
    }
   ],
   "source": [
    "total_lines = len(bmp_array)\n",
    "fliped_bmp_array = []\n",
    "for i in range(total_lines):\n",
    "    fliped_bmp_array.append(bmp_array[total_lines - 1 - i])\n",
    "len(fliped_bmp_array)    \n"
   ]
  },
  {
   "cell_type": "code",
   "execution_count": 11,
   "metadata": {},
   "outputs": [],
   "source": [
    "with open('bmp_raw.pickle','wb') as f:\n",
    "    pickle.dump(fliped_bmp_array,f)"
   ]
  },
  {
   "cell_type": "code",
   "execution_count": 12,
   "metadata": {},
   "outputs": [],
   "source": [
    "palette_file = open('palette.cpp')"
   ]
  },
  {
   "cell_type": "code",
   "execution_count": 13,
   "metadata": {},
   "outputs": [
    {
     "data": {
      "text/plain": [
       "'const UINT32 palette_16color[] =\\n'"
      ]
     },
     "execution_count": 13,
     "metadata": {},
     "output_type": "execute_result"
    }
   ],
   "source": [
    "palette_file.readline()"
   ]
  },
  {
   "cell_type": "code",
   "execution_count": 14,
   "metadata": {},
   "outputs": [],
   "source": [
    "palette_file.seek(0)\n",
    "all_pa = palette_file.readlines()"
   ]
  },
  {
   "cell_type": "code",
   "execution_count": 15,
   "metadata": {},
   "outputs": [
    {
     "name": "stdout",
     "output_type": "stream",
     "text": [
      "[255, 0, 255, 0, 71, 71, 71, 0, 81, 81, 81, 0, 167, 122, 134, 0, 184, 92, 0, 0, 255, 0, 0, 0, 0, 255, 255, 0, 0, 0, 255, 0, 255, 255, 255, 0, 0, 136, 0, 0, 51, 51, 51, 0, 91, 91, 91, 0, 184, 92, 0, 0, 30, 30, 30, 0, 21, 21, 21, 0, 0, 0, 0, 0]\n"
     ]
    }
   ],
   "source": [
    "all_pa_list = []\n",
    "for line in all_pa[2:-1]:\n",
    "    one_pa_value = line[16:].split(')')[0].split(',')\n",
    "    green =  int(one_pa_value[0],base = 10)\n",
    "    red = int(one_pa_value[1],base = 10)\n",
    "    blue = int(one_pa_value[2],base = 10)\n",
    "#     all_pa_list.append((red,green,blue))\n",
    "    all_pa_list.append(red)\n",
    "    all_pa_list.append(green)\n",
    "    all_pa_list.append(blue)\n",
    "    all_pa_list.append(0)\n",
    "print(all_pa_list)    "
   ]
  },
  {
   "cell_type": "code",
   "execution_count": 16,
   "metadata": {},
   "outputs": [],
   "source": [
    "all_pa_bytes = bytes(all_pa_list)"
   ]
  },
  {
   "cell_type": "code",
   "execution_count": 17,
   "metadata": {},
   "outputs": [
    {
     "data": {
      "text/plain": [
       "b'\\xff\\x00\\xff\\x00GGG\\x00QQQ\\x00\\xa7z\\x86\\x00\\xb8\\\\\\x00\\x00\\xff\\x00\\x00\\x00\\x00\\xff\\xff\\x00\\x00\\x00\\xff\\x00\\xff\\xff\\xff\\x00\\x00\\x88\\x00\\x00333\\x00[[[\\x00\\xb8\\\\\\x00\\x00\\x1e\\x1e\\x1e\\x00\\x15\\x15\\x15\\x00\\x00\\x00\\x00\\x00'"
      ]
     },
     "execution_count": 17,
     "metadata": {},
     "output_type": "execute_result"
    }
   ],
   "source": [
    "all_pa_bytes"
   ]
  },
  {
   "cell_type": "code",
   "execution_count": 18,
   "metadata": {},
   "outputs": [],
   "source": [
    "with open('palette.pickle','wb') as f:\n",
    "    pickle.dump(all_pa_bytes,f)"
   ]
  },
  {
   "cell_type": "code",
   "execution_count": null,
   "metadata": {},
   "outputs": [],
   "source": []
  }
 ],
 "metadata": {
  "kernelspec": {
   "display_name": "Python 3",
   "language": "python",
   "name": "python3"
  },
  "language_info": {
   "codemirror_mode": {
    "name": "ipython",
    "version": 3
   },
   "file_extension": ".py",
   "mimetype": "text/x-python",
   "name": "python",
   "nbconvert_exporter": "python",
   "pygments_lexer": "ipython3",
   "version": "3.7.3"
  }
 },
 "nbformat": 4,
 "nbformat_minor": 2
}
